{
 "cells": [
  {
   "cell_type": "markdown",
   "id": "94ab5aff",
   "metadata": {},
   "source": [
    "## Analyzing US Lottery Data\n",
    "#### Mega Millions draws from 2002 to 2025"
   ]
  },
  {
   "cell_type": "code",
   "execution_count": 1,
   "id": "383c78df",
   "metadata": {},
   "outputs": [],
   "source": [
    "import pandas as pd\n",
    "from statistics import mode"
   ]
  },
  {
   "cell_type": "code",
   "execution_count": 2,
   "id": "29693c57",
   "metadata": {},
   "outputs": [
    {
     "name": "stdout",
     "output_type": "stream",
     "text": [
      "    Draw Date Winning Numbers  Mega Ball  Multiplier\n",
      "0  09/25/2020  20 36 37 48 67         16         2.0\n",
      "1  09/29/2020  14 39 43 44 67         19         3.0\n",
      "2  10/02/2020  09 38 47 49 68         25         2.0\n",
      "3  10/06/2020  15 16 18 39 59         17         3.0\n",
      "4  10/09/2020  05 11 25 27 64         13         2.0\n",
      "<class 'pandas.core.frame.DataFrame'>\n",
      "RangeIndex: 2396 entries, 0 to 2395\n",
      "Data columns (total 4 columns):\n",
      " #   Column           Non-Null Count  Dtype  \n",
      "---  ------           --------------  -----  \n",
      " 0   Draw Date        2396 non-null   object \n",
      " 1   Winning Numbers  2396 non-null   object \n",
      " 2   Mega Ball        2396 non-null   int64  \n",
      " 3   Multiplier       1483 non-null   float64\n",
      "dtypes: float64(1), int64(1), object(2)\n",
      "memory usage: 75.0+ KB\n",
      "None\n"
     ]
    }
   ],
   "source": [
    "# Load the dataset\n",
    "file_path = './Lottery_Mega_Millions_Winning_Numbers__Beginning_2002.csv'\n",
    "data = pd.read_csv(file_path)\n",
    "\n",
    "# Look at the first few rows of the dataset\n",
    "print(data.head())\n",
    "\n",
    "# Show information about the dataset\n",
    "print(data.info())"
   ]
  },
  {
   "cell_type": "code",
   "execution_count": 3,
   "id": "bfba1b62",
   "metadata": {},
   "outputs": [],
   "source": [
    "# Rename columns to lowercase and replace spaces with underscores\n",
    "data.columns = [name for name in data.columns.str.replace(' ', '_').str.lower()]"
   ]
  },
  {
   "cell_type": "code",
   "execution_count": 4,
   "id": "631a0bb2",
   "metadata": {},
   "outputs": [
    {
     "data": {
      "text/plain": [
       "array([ 2.,  3.,  5.,  4., nan])"
      ]
     },
     "metadata": {},
     "output_type": "display_data"
    },
    {
     "data": {
      "text/plain": [
       "array([2, 3, 5, 4, 1])"
      ]
     },
     "metadata": {},
     "output_type": "display_data"
    }
   ],
   "source": [
    "# Show unique values in the 'multiplier' column\n",
    "display(data['multiplier'].unique())\n",
    "\n",
    "# Fill missing values in the 'multiplier' column with 1 as there is no multiplier\n",
    "data['multiplier'] = data['multiplier'].fillna(1)\n",
    "# Convert the 'multiplier' column to integer type\n",
    "data['multiplier'] = data['multiplier'].astype(int)\n",
    "\n",
    "# Show unique values in the 'multiplier' column\n",
    "display(data['multiplier'].unique())"
   ]
  },
  {
   "cell_type": "code",
   "execution_count": 5,
   "id": "bb44401f",
   "metadata": {},
   "outputs": [],
   "source": [
    "# Convert the 'draw_date' column to datetime format\n",
    "data['draw_date'] = pd.to_datetime(data['draw_date'], format='%m/%d/%Y')"
   ]
  },
  {
   "cell_type": "code",
   "execution_count": 6,
   "id": "be0ba261",
   "metadata": {},
   "outputs": [],
   "source": [
    "# Convertng the 'winning_numbers' column to a list of integers\n",
    "def convert_to_list_of_ints(s):\n",
    "    return [int(num) for num in s.split()]\n",
    "data['winning_numbers'] = data['winning_numbers'].apply(convert_to_list_of_ints)\n",
    "\n",
    "# Transform the 'winning_numbers' column into separate columns\n",
    "data[['wn_1', 'wn_2', 'wn_3', 'wn_4', 'wn_5']] = data['winning_numbers'].apply(pd.Series)\n",
    "\n",
    "# Delete the original 'winning_numbers' column\n",
    "data = data.drop(columns=['winning_numbers'])\n"
   ]
  },
  {
   "cell_type": "code",
   "execution_count": 7,
   "id": "d1a3ddc9",
   "metadata": {},
   "outputs": [
    {
     "data": {
      "text/html": [
       "<div>\n",
       "<style scoped>\n",
       "    .dataframe tbody tr th:only-of-type {\n",
       "        vertical-align: middle;\n",
       "    }\n",
       "\n",
       "    .dataframe tbody tr th {\n",
       "        vertical-align: top;\n",
       "    }\n",
       "\n",
       "    .dataframe thead th {\n",
       "        text-align: right;\n",
       "    }\n",
       "</style>\n",
       "<table border=\"1\" class=\"dataframe\">\n",
       "  <thead>\n",
       "    <tr style=\"text-align: right;\">\n",
       "      <th></th>\n",
       "      <th>draw_date</th>\n",
       "      <th>mega_ball</th>\n",
       "      <th>multiplier</th>\n",
       "      <th>wn_1</th>\n",
       "      <th>wn_2</th>\n",
       "      <th>wn_3</th>\n",
       "      <th>wn_4</th>\n",
       "      <th>wn_5</th>\n",
       "    </tr>\n",
       "  </thead>\n",
       "  <tbody>\n",
       "    <tr>\n",
       "      <th>0</th>\n",
       "      <td>2020-09-25</td>\n",
       "      <td>16</td>\n",
       "      <td>2</td>\n",
       "      <td>20</td>\n",
       "      <td>36</td>\n",
       "      <td>37</td>\n",
       "      <td>48</td>\n",
       "      <td>67</td>\n",
       "    </tr>\n",
       "    <tr>\n",
       "      <th>1</th>\n",
       "      <td>2020-09-29</td>\n",
       "      <td>19</td>\n",
       "      <td>3</td>\n",
       "      <td>14</td>\n",
       "      <td>39</td>\n",
       "      <td>43</td>\n",
       "      <td>44</td>\n",
       "      <td>67</td>\n",
       "    </tr>\n",
       "    <tr>\n",
       "      <th>2</th>\n",
       "      <td>2020-10-02</td>\n",
       "      <td>25</td>\n",
       "      <td>2</td>\n",
       "      <td>9</td>\n",
       "      <td>38</td>\n",
       "      <td>47</td>\n",
       "      <td>49</td>\n",
       "      <td>68</td>\n",
       "    </tr>\n",
       "    <tr>\n",
       "      <th>3</th>\n",
       "      <td>2020-10-06</td>\n",
       "      <td>17</td>\n",
       "      <td>3</td>\n",
       "      <td>15</td>\n",
       "      <td>16</td>\n",
       "      <td>18</td>\n",
       "      <td>39</td>\n",
       "      <td>59</td>\n",
       "    </tr>\n",
       "    <tr>\n",
       "      <th>4</th>\n",
       "      <td>2020-10-09</td>\n",
       "      <td>13</td>\n",
       "      <td>2</td>\n",
       "      <td>5</td>\n",
       "      <td>11</td>\n",
       "      <td>25</td>\n",
       "      <td>27</td>\n",
       "      <td>64</td>\n",
       "    </tr>\n",
       "  </tbody>\n",
       "</table>\n",
       "</div>"
      ],
      "text/plain": [
       "   draw_date  mega_ball  multiplier  wn_1  wn_2  wn_3  wn_4  wn_5\n",
       "0 2020-09-25         16           2    20    36    37    48    67\n",
       "1 2020-09-29         19           3    14    39    43    44    67\n",
       "2 2020-10-02         25           2     9    38    47    49    68\n",
       "3 2020-10-06         17           3    15    16    18    39    59\n",
       "4 2020-10-09         13           2     5    11    25    27    64"
      ]
     },
     "metadata": {},
     "output_type": "display_data"
    },
    {
     "name": "stdout",
     "output_type": "stream",
     "text": [
      "<class 'pandas.core.frame.DataFrame'>\n",
      "RangeIndex: 2396 entries, 0 to 2395\n",
      "Data columns (total 8 columns):\n",
      " #   Column      Non-Null Count  Dtype         \n",
      "---  ------      --------------  -----         \n",
      " 0   draw_date   2396 non-null   datetime64[ns]\n",
      " 1   mega_ball   2396 non-null   int64         \n",
      " 2   multiplier  2396 non-null   int32         \n",
      " 3   wn_1        2396 non-null   int64         \n",
      " 4   wn_2        2396 non-null   int64         \n",
      " 5   wn_3        2396 non-null   int64         \n",
      " 6   wn_4        2396 non-null   int64         \n",
      " 7   wn_5        2396 non-null   int64         \n",
      "dtypes: datetime64[ns](1), int32(1), int64(6)\n",
      "memory usage: 140.5 KB\n"
     ]
    },
    {
     "data": {
      "text/plain": [
       "None"
      ]
     },
     "metadata": {},
     "output_type": "display_data"
    },
    {
     "data": {
      "text/html": [
       "<div>\n",
       "<style scoped>\n",
       "    .dataframe tbody tr th:only-of-type {\n",
       "        vertical-align: middle;\n",
       "    }\n",
       "\n",
       "    .dataframe tbody tr th {\n",
       "        vertical-align: top;\n",
       "    }\n",
       "\n",
       "    .dataframe thead th {\n",
       "        text-align: right;\n",
       "    }\n",
       "</style>\n",
       "<table border=\"1\" class=\"dataframe\">\n",
       "  <thead>\n",
       "    <tr style=\"text-align: right;\">\n",
       "      <th></th>\n",
       "      <th>draw_date</th>\n",
       "      <th>mega_ball</th>\n",
       "      <th>multiplier</th>\n",
       "      <th>wn_1</th>\n",
       "      <th>wn_2</th>\n",
       "      <th>wn_3</th>\n",
       "      <th>wn_4</th>\n",
       "      <th>wn_5</th>\n",
       "    </tr>\n",
       "  </thead>\n",
       "  <tbody>\n",
       "    <tr>\n",
       "      <th>count</th>\n",
       "      <td>2396</td>\n",
       "      <td>2396.000000</td>\n",
       "      <td>2396.000000</td>\n",
       "      <td>2396.000000</td>\n",
       "      <td>2396.000000</td>\n",
       "      <td>2396.000000</td>\n",
       "      <td>2396.000000</td>\n",
       "      <td>2396.000000</td>\n",
       "    </tr>\n",
       "    <tr>\n",
       "      <th>mean</th>\n",
       "      <td>2013-11-13 05:58:11.819699456</td>\n",
       "      <td>17.826795</td>\n",
       "      <td>2.416945</td>\n",
       "      <td>10.424040</td>\n",
       "      <td>21.048414</td>\n",
       "      <td>31.706594</td>\n",
       "      <td>42.421119</td>\n",
       "      <td>53.235392</td>\n",
       "    </tr>\n",
       "    <tr>\n",
       "      <th>min</th>\n",
       "      <td>2002-05-17 00:00:00</td>\n",
       "      <td>1.000000</td>\n",
       "      <td>1.000000</td>\n",
       "      <td>1.000000</td>\n",
       "      <td>2.000000</td>\n",
       "      <td>3.000000</td>\n",
       "      <td>5.000000</td>\n",
       "      <td>14.000000</td>\n",
       "    </tr>\n",
       "    <tr>\n",
       "      <th>25%</th>\n",
       "      <td>2008-02-14 06:00:00</td>\n",
       "      <td>8.000000</td>\n",
       "      <td>1.000000</td>\n",
       "      <td>4.000000</td>\n",
       "      <td>13.000000</td>\n",
       "      <td>23.000000</td>\n",
       "      <td>34.000000</td>\n",
       "      <td>46.000000</td>\n",
       "    </tr>\n",
       "    <tr>\n",
       "      <th>50%</th>\n",
       "      <td>2013-11-17 00:00:00</td>\n",
       "      <td>15.000000</td>\n",
       "      <td>2.000000</td>\n",
       "      <td>8.000000</td>\n",
       "      <td>19.500000</td>\n",
       "      <td>31.000000</td>\n",
       "      <td>42.000000</td>\n",
       "      <td>53.000000</td>\n",
       "    </tr>\n",
       "    <tr>\n",
       "      <th>75%</th>\n",
       "      <td>2019-08-13 18:00:00</td>\n",
       "      <td>25.000000</td>\n",
       "      <td>4.000000</td>\n",
       "      <td>15.000000</td>\n",
       "      <td>28.000000</td>\n",
       "      <td>40.000000</td>\n",
       "      <td>51.000000</td>\n",
       "      <td>62.250000</td>\n",
       "    </tr>\n",
       "    <tr>\n",
       "      <th>max</th>\n",
       "      <td>2025-05-09 00:00:00</td>\n",
       "      <td>52.000000</td>\n",
       "      <td>5.000000</td>\n",
       "      <td>56.000000</td>\n",
       "      <td>66.000000</td>\n",
       "      <td>68.000000</td>\n",
       "      <td>74.000000</td>\n",
       "      <td>75.000000</td>\n",
       "    </tr>\n",
       "    <tr>\n",
       "      <th>std</th>\n",
       "      <td>NaN</td>\n",
       "      <td>12.643153</td>\n",
       "      <td>1.357646</td>\n",
       "      <td>8.383481</td>\n",
       "      <td>11.054815</td>\n",
       "      <td>12.301751</td>\n",
       "      <td>12.309069</td>\n",
       "      <td>11.395513</td>\n",
       "    </tr>\n",
       "  </tbody>\n",
       "</table>\n",
       "</div>"
      ],
      "text/plain": [
       "                           draw_date    mega_ball   multiplier         wn_1  \\\n",
       "count                           2396  2396.000000  2396.000000  2396.000000   \n",
       "mean   2013-11-13 05:58:11.819699456    17.826795     2.416945    10.424040   \n",
       "min              2002-05-17 00:00:00     1.000000     1.000000     1.000000   \n",
       "25%              2008-02-14 06:00:00     8.000000     1.000000     4.000000   \n",
       "50%              2013-11-17 00:00:00    15.000000     2.000000     8.000000   \n",
       "75%              2019-08-13 18:00:00    25.000000     4.000000    15.000000   \n",
       "max              2025-05-09 00:00:00    52.000000     5.000000    56.000000   \n",
       "std                              NaN    12.643153     1.357646     8.383481   \n",
       "\n",
       "              wn_2         wn_3         wn_4         wn_5  \n",
       "count  2396.000000  2396.000000  2396.000000  2396.000000  \n",
       "mean     21.048414    31.706594    42.421119    53.235392  \n",
       "min       2.000000     3.000000     5.000000    14.000000  \n",
       "25%      13.000000    23.000000    34.000000    46.000000  \n",
       "50%      19.500000    31.000000    42.000000    53.000000  \n",
       "75%      28.000000    40.000000    51.000000    62.250000  \n",
       "max      66.000000    68.000000    74.000000    75.000000  \n",
       "std      11.054815    12.301751    12.309069    11.395513  "
      ]
     },
     "metadata": {},
     "output_type": "display_data"
    }
   ],
   "source": [
    "# Showing informations about the dataset\n",
    "display(data.head())\n",
    "display(data.info())\n",
    "display(data.describe())"
   ]
  },
  {
   "cell_type": "code",
   "execution_count": 8,
   "id": "3fa78b2d",
   "metadata": {},
   "outputs": [
    {
     "name": "stdout",
     "output_type": "stream",
     "text": [
      "2 17 31 46 52 9\n"
     ]
    }
   ],
   "source": [
    "# Showing the most common winning numbers in order of draw\n",
    "print(mode(data['wn_1']), mode(data['wn_2']), mode(data['wn_3']), mode(data['wn_4']), mode(data['wn_5']), mode(data['mega_ball']))"
   ]
  },
  {
   "cell_type": "code",
   "execution_count": 9,
   "id": "5c83e33a",
   "metadata": {},
   "outputs": [
    {
     "data": {
      "text/plain": [
       "[2, 3, 1, 4, 7]"
      ]
     },
     "metadata": {},
     "output_type": "display_data"
    },
    {
     "data": {
      "text/plain": [
       "[17, 15, 10, 13, 20]"
      ]
     },
     "metadata": {},
     "output_type": "display_data"
    },
    {
     "data": {
      "text/plain": [
       "[31, 26, 27, 24, 29]"
      ]
     },
     "metadata": {},
     "output_type": "display_data"
    },
    {
     "data": {
      "text/plain": [
       "[46, 42, 38, 48, 40]"
      ]
     },
     "metadata": {},
     "output_type": "display_data"
    },
    {
     "data": {
      "text/plain": [
       "[52, 51, 56, 50, 55]"
      ]
     },
     "metadata": {},
     "output_type": "display_data"
    },
    {
     "data": {
      "text/plain": [
       "[9, 7, 3, 10, 13]"
      ]
     },
     "metadata": {},
     "output_type": "display_data"
    }
   ],
   "source": [
    "# Showing the first 5 most common winning numbers for eash draw\n",
    "display(data['wn_1'].value_counts().index[:5].to_list(), \n",
    "        data['wn_2'].value_counts().index[:5].to_list(), \n",
    "        data['wn_3'].value_counts().index[:5].to_list(), \n",
    "        data['wn_4'].value_counts().index[:5].to_list(), \n",
    "        data['wn_5'].value_counts().index[:5].to_list(), \n",
    "        data['mega_ball'].value_counts().index[:5].to_list())"
   ]
  },
  {
   "cell_type": "code",
   "execution_count": 10,
   "id": "55915870",
   "metadata": {},
   "outputs": [
    {
     "name": "stdout",
     "output_type": "stream",
     "text": [
      "35.14190317195325\n",
      "18.948247078464107\n",
      "16.569282136894824\n",
      "17.487479131886477\n",
      "22.20367278797997\n"
     ]
    }
   ],
   "source": [
    "# Show how % of the winning numbers are in the first 5 most common winning numbers\n",
    "print(data['wn_1'].value_counts()[:5].sum() / data['wn_1'].count() * 100)\n",
    "print(data['wn_2'].value_counts()[:5].sum() / data['wn_2'].count() * 100)\n",
    "print(data['wn_3'].value_counts()[:5].sum() / data['wn_3'].count() * 100)\n",
    "print(data['wn_4'].value_counts()[:5].sum() / data['wn_4'].count() * 100)\n",
    "print(data['wn_5'].value_counts()[:5].sum() / data['wn_5'].count() * 100)"
   ]
  },
  {
   "cell_type": "code",
   "execution_count": 11,
   "id": "976a0539",
   "metadata": {},
   "outputs": [
    {
     "data": {
      "text/plain": [
       "[31, 10, 20, 14, 17]"
      ]
     },
     "metadata": {},
     "output_type": "display_data"
    },
    {
     "data": {
      "text/plain": [
       "9.332220367278799"
      ]
     },
     "execution_count": 11,
     "metadata": {},
     "output_type": "execute_result"
    }
   ],
   "source": [
    "# Show the top 5 most common winning numbers for all draws\n",
    "all_numbers = pd.concat([data['wn_1'], data['wn_2'], data['wn_3'], data['wn_4'], data['wn_5']])\n",
    "\n",
    "# Show how % of the winning numbers are in the first 5 most common winning numbers\n",
    "display(all_numbers.value_counts().index[:5].to_list())\n",
    "all_numbers.value_counts()[:5].sum() / all_numbers.count() * 100\n"
   ]
  },
  {
   "cell_type": "markdown",
   "id": "047b0b06",
   "metadata": {},
   "source": [
    "It was observed that 5 numbers hold about 9.33% of the total numbers drawn since, we also got a 5x5 set with which has about 20% combined draws, where the lines are the order of the draw and the columns are the numbers drawn, we have the top 1 numbers by order of draw that have never been drawn together before, which can be a big bet if we were not talking about a random draw."
   ]
  }
 ],
 "metadata": {
  "kernelspec": {
   "display_name": "base",
   "language": "python",
   "name": "python3"
  },
  "language_info": {
   "codemirror_mode": {
    "name": "ipython",
    "version": 3
   },
   "file_extension": ".py",
   "mimetype": "text/x-python",
   "name": "python",
   "nbconvert_exporter": "python",
   "pygments_lexer": "ipython3",
   "version": "3.12.7"
  }
 },
 "nbformat": 4,
 "nbformat_minor": 5
}
